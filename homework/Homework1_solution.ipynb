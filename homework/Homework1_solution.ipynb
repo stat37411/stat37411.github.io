{
 "cells": [
  {
   "cell_type": "code",
   "execution_count": 11,
   "metadata": {},
   "outputs": [],
   "source": [
    "import dionysus as d\n",
    "import numpy as np\n",
    "from itertools import combinations"
   ]
  },
  {
   "cell_type": "markdown",
   "metadata": {},
   "source": [
    "# Rips Complex Construction"
   ]
  },
  {
   "cell_type": "code",
   "execution_count": 38,
   "metadata": {},
   "outputs": [],
   "source": [
    "def RipsComplex(X, r, k):\n",
    "    \"\"\"\n",
    "    Construct Rips complex on point cloud X with parameter r, max simplex dimension k\n",
    "    \"\"\"\n",
    "    n = len(X)\n",
    "    \n",
    "    def in_rips(s):\n",
    "        \"\"\"\n",
    "        determine if simplex s is in Rips complex\n",
    "        \"\"\"\n",
    "        for i,j in combinations(s, 2):\n",
    "            if np.linalg.norm(X[i] - X[j]) > r:\n",
    "                return False\n",
    "            \n",
    "        return True\n",
    "    \n",
    "    R = d.Filtration()\n",
    "    \n",
    "    # all vertices in R\n",
    "    for i in range(n):\n",
    "        R.append(d.Simplex((i,)))\n",
    "        \n",
    "    # add higher dimensional simplices if appropriate\n",
    "    for dim in range(1,k+1):\n",
    "        for s in combinations(range(n), dim+1):\n",
    "            if in_rips(s):\n",
    "                R.append(d.Simplex(s))\n",
    "        \n",
    "    return R"
   ]
  },
  {
   "cell_type": "code",
   "execution_count": 95,
   "metadata": {},
   "outputs": [
    {
     "name": "stdout",
     "output_type": "stream",
     "text": [
      "<0> 0\n",
      "<1> 0\n",
      "<2> 0\n",
      "<3> 0\n",
      "<4> 0\n",
      "<5> 0\n",
      "<6> 0\n",
      "<7> 0\n",
      "<8> 0\n",
      "<9> 0\n",
      "<1,2> 0\n",
      "<1,6> 0\n",
      "<2,7> 0\n"
     ]
    }
   ],
   "source": [
    "X = np.random.randn(10,3)\n",
    "R = RipsComplex(X, 1.0, 2)\n",
    "for s in R:\n",
    "    print(s)"
   ]
  },
  {
   "cell_type": "markdown",
   "metadata": {},
   "source": [
    "# Nerve Construction"
   ]
  },
  {
   "cell_type": "code",
   "execution_count": 86,
   "metadata": {},
   "outputs": [],
   "source": [
    "def Nerve(C, k):\n",
    "    \"\"\"\n",
    "    return Nerve of a cover with maximum simplex dimension k\n",
    "    Cover is a list of sets\n",
    "    \"\"\"\n",
    "    n = len(C)\n",
    "    \n",
    "    def cover_intersection(s):\n",
    "        \"\"\"\n",
    "        return intersection of sets in s\n",
    "        \"\"\"\n",
    "        return set.intersection(*tuple(C[i] for i in s))\n",
    "        \n",
    "    N = d.Filtration()\n",
    "    \n",
    "        \n",
    "    # add simplices if appropriate\n",
    "    for dim in range(k+1):\n",
    "        for s in combinations(range(n), dim+1):\n",
    "            if cover_intersection(s):\n",
    "                N.append(d.Simplex(s))\n",
    "        \n",
    "    return N\n",
    "    "
   ]
  },
  {
   "cell_type": "code",
   "execution_count": 96,
   "metadata": {},
   "outputs": [
    {
     "name": "stdout",
     "output_type": "stream",
     "text": [
      "<0> 0\n",
      "<1> 0\n",
      "<2> 0\n",
      "<3> 0\n",
      "<0,1> 0\n",
      "<0,2> 0\n",
      "<0,3> 0\n",
      "<1,2> 0\n",
      "<2,3> 0\n",
      "<0,1,2> 0\n",
      "<0,2,3> 0\n"
     ]
    }
   ],
   "source": [
    "C = [{0,1, 2}, {1,2}, {0,2}, {0,3}]\n",
    "N = Nerve(C, 2)\n",
    "for s in N:\n",
    "    print(s)"
   ]
  },
  {
   "cell_type": "code",
   "execution_count": null,
   "metadata": {},
   "outputs": [],
   "source": []
  }
 ],
 "metadata": {
  "kernelspec": {
   "display_name": "Python [conda env:tda]",
   "language": "python",
   "name": "conda-env-tda-py"
  },
  "language_info": {
   "codemirror_mode": {
    "name": "ipython",
    "version": 3
   },
   "file_extension": ".py",
   "mimetype": "text/x-python",
   "name": "python",
   "nbconvert_exporter": "python",
   "pygments_lexer": "ipython3",
   "version": "3.9.1"
  }
 },
 "nbformat": 4,
 "nbformat_minor": 4
}
