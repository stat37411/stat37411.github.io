{
 "cells": [
  {
   "cell_type": "code",
   "execution_count": 1,
   "metadata": {},
   "outputs": [],
   "source": [
    "import dionysus as d\n",
    "import numpy as np\n",
    "from itertools import combinations"
   ]
  },
  {
   "cell_type": "markdown",
   "metadata": {},
   "source": [
    "# Problem 1\n",
    "\n",
    "\\begin{equation}\n",
    "H(x, t) = (1-t) x + t x / \\|x\\|_2\n",
    "\\end{equation}\n",
    "\n",
    "Is pretty easy/straightforward.  This is not unique, and there are other possibilities."
   ]
  },
  {
   "cell_type": "markdown",
   "metadata": {},
   "source": [
    "# Problem 2\n"
   ]
  },
  {
   "cell_type": "code",
   "execution_count": 2,
   "metadata": {
    "scrolled": true
   },
   "outputs": [
    {
     "data": {
      "text/plain": [
       "array([[0.        , 1.73205081, 1.73205081],\n",
       "       [1.73205081, 0.        , 1.73205081],\n",
       "       [1.73205081, 1.73205081, 0.        ]])"
      ]
     },
     "execution_count": 2,
     "metadata": {},
     "output_type": "execute_result"
    }
   ],
   "source": [
    "from scipy.spatial.distance import pdist, squareform\n",
    "\n",
    "theta = np.linspace(0, 2*np.pi, 3, endpoint=False)\n",
    "X = np.c_[np.cos(theta), np.sin(theta)]\n",
    "squareform(pdist(X))"
   ]
  },
  {
   "cell_type": "code",
   "execution_count": 3,
   "metadata": {},
   "outputs": [
    {
     "data": {
      "text/plain": [
       "0.8660254037844386"
      ]
     },
     "execution_count": 3,
     "metadata": {},
     "output_type": "execute_result"
    }
   ],
   "source": [
    "np.sqrt(3)/2"
   ]
  },
  {
   "cell_type": "markdown",
   "metadata": {},
   "source": [
    "a) There are two regimes where this occurs.  First, when both complexes are just three points, and second when the two complexes are the two simplex $(0,1,2)$ (plus faces).  The three points are equidistant, with $d(x,y) = \\sqrt{3}$\n",
    "\n",
    "$R(X;r)$ is three points for $r < \\sqrt{3}$, then equal to the 2-simplex for $r\\ge \\sqrt(3)$.\n",
    "\n",
    "$C(X;r)$ is three proints for $r < \\sqrt{3}/2$, then equal to the 2-simplex boundary (3 edges) for $\\sqrt{3}/2 \\le r < 1$ (the balls first have a 3-way intersection at the origin, distance 1 away), then equal to the 2-simplex for $r\\ge 1$.\n",
    "\n",
    "Thus the two complexes are identical for $r\\in [0,\\sqrt{3}/2) \\cup [\\sqrt{3},\\infty)$\n",
    "\n",
    "b) You don't need to construct an explicit homotopy.  $C(X;r) \\simeq S^1$ when it is identical to the 2-simplex boundary without the 2-simplex.  This is  in the range $\\sqrt{3}/2 \\le r < 1$\n",
    "\n",
    "c) $R(X; r)$ is never $\\simeq S^1$."
   ]
  },
  {
   "cell_type": "markdown",
   "metadata": {},
   "source": [
    "# Rips Complex Construction\n",
    "\n",
    "Here's a solution using Dionysus to sore the simplicial complexes.  You actually just use a `Filtration` type, but don't specify any filtration parameters."
   ]
  },
  {
   "cell_type": "code",
   "execution_count": 4,
   "metadata": {},
   "outputs": [],
   "source": [
    "def RipsComplex(X, r, k):\n",
    "    \"\"\"\n",
    "    Construct Rips complex on point cloud X with parameter r, max simplex dimension k\n",
    "    \"\"\"\n",
    "    n = len(X)\n",
    "    \n",
    "    def in_rips(s):\n",
    "        \"\"\"\n",
    "        determine if simplex s is in Rips complex\n",
    "        \"\"\"\n",
    "        for i,j in combinations(s, 2):\n",
    "            if np.linalg.norm(X[i] - X[j]) > r:\n",
    "                return False\n",
    "            \n",
    "        return True\n",
    "    \n",
    "    R = d.Filtration()\n",
    "    \n",
    "    # all vertices in R\n",
    "    for i in range(n):\n",
    "        R.append(d.Simplex((i,)))\n",
    "        \n",
    "    # add higher dimensional simplices if appropriate\n",
    "    for dim in range(1,k+1):\n",
    "        for s in combinations(range(n), dim+1):\n",
    "            if in_rips(s):\n",
    "                R.append(d.Simplex(s))\n",
    "        \n",
    "    return R"
   ]
  },
  {
   "cell_type": "code",
   "execution_count": 5,
   "metadata": {},
   "outputs": [
    {
     "name": "stdout",
     "output_type": "stream",
     "text": [
      "<0> 0\n",
      "<1> 0\n",
      "<2> 0\n",
      "<3> 0\n",
      "<4> 0\n",
      "<5> 0\n",
      "<6> 0\n",
      "<7> 0\n",
      "<8> 0\n",
      "<9> 0\n",
      "<1,6> 0\n",
      "<1,8> 0\n",
      "<4,9> 0\n"
     ]
    }
   ],
   "source": [
    "X = np.random.randn(10,3)\n",
    "R = RipsComplex(X, 1.0, 2)\n",
    "for s in R:\n",
    "    print(s)"
   ]
  },
  {
   "cell_type": "markdown",
   "metadata": {},
   "source": [
    "# Nerve Construction"
   ]
  },
  {
   "cell_type": "code",
   "execution_count": 6,
   "metadata": {},
   "outputs": [],
   "source": [
    "def Nerve(C, k):\n",
    "    \"\"\"\n",
    "    return Nerve of a cover with maximum simplex dimension k\n",
    "    Cover is a list of sets\n",
    "    \"\"\"\n",
    "    n = len(C)\n",
    "    \n",
    "    def cover_intersection(s):\n",
    "        \"\"\"\n",
    "        return intersection of sets in s\n",
    "        \"\"\"\n",
    "        return set.intersection(*tuple(C[i] for i in s))\n",
    "        \n",
    "    N = d.Filtration()\n",
    "    \n",
    "        \n",
    "    # add simplices if appropriate\n",
    "    for dim in range(k+1):\n",
    "        for s in combinations(range(n), dim+1):\n",
    "            if cover_intersection(s):\n",
    "                N.append(d.Simplex(s))\n",
    "        \n",
    "    return N\n",
    "    "
   ]
  },
  {
   "cell_type": "code",
   "execution_count": 7,
   "metadata": {},
   "outputs": [
    {
     "name": "stdout",
     "output_type": "stream",
     "text": [
      "<0> 0\n",
      "<1> 0\n",
      "<2> 0\n",
      "<3> 0\n",
      "<0,1> 0\n",
      "<0,2> 0\n",
      "<0,3> 0\n",
      "<1,2> 0\n",
      "<2,3> 0\n",
      "<0,1,2> 0\n",
      "<0,2,3> 0\n"
     ]
    }
   ],
   "source": [
    "C = [{0,1, 2}, {1,2}, {0,2}, {0,3}]\n",
    "N = Nerve(C, 2)\n",
    "for s in N:\n",
    "    print(s)"
   ]
  },
  {
   "cell_type": "markdown",
   "metadata": {},
   "source": [
    "# Problem 3\n",
    "\n",
    "Note that in this problem, you don't need to use the same parameters when constructing the mapper graph.  Just load the data and construct _some_ mapper graph."
   ]
  },
  {
   "cell_type": "code",
   "execution_count": 8,
   "metadata": {},
   "outputs": [],
   "source": [
    "# Import the class\n",
    "import kmapper as km\n",
    "import sklearn.manifold as manifold\n",
    "\n",
    "# Some sample data\n",
    "from sklearn import datasets\n",
    "\n",
    "import pandas as pd"
   ]
  },
  {
   "cell_type": "code",
   "execution_count": 9,
   "metadata": {},
   "outputs": [],
   "source": [
    "df = pd.read_csv(\"https://raw.githubusercontent.com/stat37411/tda/main/data/chemdiab.csv\")\n",
    "df2 = df[[\"rw\", \"fpg\", \"ga\", \"ina\", \"sspg\", \"cc\"]]"
   ]
  },
  {
   "cell_type": "code",
   "execution_count": 10,
   "metadata": {},
   "outputs": [
    {
     "data": {
      "text/html": [
       "<div>\n",
       "<style scoped>\n",
       "    .dataframe tbody tr th:only-of-type {\n",
       "        vertical-align: middle;\n",
       "    }\n",
       "\n",
       "    .dataframe tbody tr th {\n",
       "        vertical-align: top;\n",
       "    }\n",
       "\n",
       "    .dataframe thead th {\n",
       "        text-align: right;\n",
       "    }\n",
       "</style>\n",
       "<table border=\"1\" class=\"dataframe\">\n",
       "  <thead>\n",
       "    <tr style=\"text-align: right;\">\n",
       "      <th></th>\n",
       "      <th>rw</th>\n",
       "      <th>fpg</th>\n",
       "      <th>ga</th>\n",
       "      <th>ina</th>\n",
       "      <th>sspg</th>\n",
       "      <th>cc</th>\n",
       "    </tr>\n",
       "  </thead>\n",
       "  <tbody>\n",
       "    <tr>\n",
       "      <th>0</th>\n",
       "      <td>0.81</td>\n",
       "      <td>80</td>\n",
       "      <td>356</td>\n",
       "      <td>124</td>\n",
       "      <td>55</td>\n",
       "      <td>Normal</td>\n",
       "    </tr>\n",
       "    <tr>\n",
       "      <th>1</th>\n",
       "      <td>0.95</td>\n",
       "      <td>97</td>\n",
       "      <td>289</td>\n",
       "      <td>117</td>\n",
       "      <td>76</td>\n",
       "      <td>Normal</td>\n",
       "    </tr>\n",
       "    <tr>\n",
       "      <th>2</th>\n",
       "      <td>0.94</td>\n",
       "      <td>105</td>\n",
       "      <td>319</td>\n",
       "      <td>143</td>\n",
       "      <td>105</td>\n",
       "      <td>Normal</td>\n",
       "    </tr>\n",
       "    <tr>\n",
       "      <th>3</th>\n",
       "      <td>1.04</td>\n",
       "      <td>90</td>\n",
       "      <td>356</td>\n",
       "      <td>199</td>\n",
       "      <td>108</td>\n",
       "      <td>Normal</td>\n",
       "    </tr>\n",
       "    <tr>\n",
       "      <th>4</th>\n",
       "      <td>1.00</td>\n",
       "      <td>90</td>\n",
       "      <td>323</td>\n",
       "      <td>240</td>\n",
       "      <td>143</td>\n",
       "      <td>Normal</td>\n",
       "    </tr>\n",
       "    <tr>\n",
       "      <th>...</th>\n",
       "      <td>...</td>\n",
       "      <td>...</td>\n",
       "      <td>...</td>\n",
       "      <td>...</td>\n",
       "      <td>...</td>\n",
       "      <td>...</td>\n",
       "    </tr>\n",
       "    <tr>\n",
       "      <th>140</th>\n",
       "      <td>1.05</td>\n",
       "      <td>353</td>\n",
       "      <td>1428</td>\n",
       "      <td>41</td>\n",
       "      <td>480</td>\n",
       "      <td>Overt_Diabetic</td>\n",
       "    </tr>\n",
       "    <tr>\n",
       "      <th>141</th>\n",
       "      <td>0.91</td>\n",
       "      <td>180</td>\n",
       "      <td>923</td>\n",
       "      <td>77</td>\n",
       "      <td>150</td>\n",
       "      <td>Overt_Diabetic</td>\n",
       "    </tr>\n",
       "    <tr>\n",
       "      <th>142</th>\n",
       "      <td>0.90</td>\n",
       "      <td>213</td>\n",
       "      <td>1025</td>\n",
       "      <td>29</td>\n",
       "      <td>209</td>\n",
       "      <td>Overt_Diabetic</td>\n",
       "    </tr>\n",
       "    <tr>\n",
       "      <th>143</th>\n",
       "      <td>1.11</td>\n",
       "      <td>328</td>\n",
       "      <td>1246</td>\n",
       "      <td>124</td>\n",
       "      <td>442</td>\n",
       "      <td>Overt_Diabetic</td>\n",
       "    </tr>\n",
       "    <tr>\n",
       "      <th>144</th>\n",
       "      <td>0.74</td>\n",
       "      <td>346</td>\n",
       "      <td>1568</td>\n",
       "      <td>15</td>\n",
       "      <td>253</td>\n",
       "      <td>Overt_Diabetic</td>\n",
       "    </tr>\n",
       "  </tbody>\n",
       "</table>\n",
       "<p>145 rows × 6 columns</p>\n",
       "</div>"
      ],
      "text/plain": [
       "       rw  fpg    ga  ina  sspg              cc\n",
       "0    0.81   80   356  124    55          Normal\n",
       "1    0.95   97   289  117    76          Normal\n",
       "2    0.94  105   319  143   105          Normal\n",
       "3    1.04   90   356  199   108          Normal\n",
       "4    1.00   90   323  240   143          Normal\n",
       "..    ...  ...   ...  ...   ...             ...\n",
       "140  1.05  353  1428   41   480  Overt_Diabetic\n",
       "141  0.91  180   923   77   150  Overt_Diabetic\n",
       "142  0.90  213  1025   29   209  Overt_Diabetic\n",
       "143  1.11  328  1246  124   442  Overt_Diabetic\n",
       "144  0.74  346  1568   15   253  Overt_Diabetic\n",
       "\n",
       "[145 rows x 6 columns]"
      ]
     },
     "execution_count": 10,
     "metadata": {},
     "output_type": "execute_result"
    }
   ],
   "source": [
    "df"
   ]
  },
  {
   "cell_type": "code",
   "execution_count": 11,
   "metadata": {},
   "outputs": [
    {
     "data": {
      "text/plain": [
       "(145, 5)"
      ]
     },
     "execution_count": 11,
     "metadata": {},
     "output_type": "execute_result"
    }
   ],
   "source": [
    "data = df2[['rw', 'fpg', 'ga', 'ina', 'sspg']].to_numpy()\n",
    "labels = df2[['cc']].to_numpy()\n",
    "data.shape"
   ]
  },
  {
   "cell_type": "code",
   "execution_count": 12,
   "metadata": {},
   "outputs": [],
   "source": [
    "from sklearn.decomposition import PCA\n",
    "from sklearn.neighbors import KernelDensity\n",
    "from sklearn.cluster import DBSCAN"
   ]
  },
  {
   "cell_type": "code",
   "execution_count": 13,
   "metadata": {},
   "outputs": [
    {
     "data": {
      "text/plain": [
       "KernelDensity()"
      ]
     },
     "execution_count": 13,
     "metadata": {},
     "output_type": "execute_result"
    }
   ],
   "source": [
    "KernelDensity().fit(data)"
   ]
  },
  {
   "cell_type": "code",
   "execution_count": 14,
   "metadata": {},
   "outputs": [
    {
     "name": "stdout",
     "output_type": "stream",
     "text": [
      "KeplerMapper(verbose=1)\n",
      "..Composing projection pipeline of length 1:\n",
      "\tProjections: PCA(n_components=2)\n",
      "\tDistance matrices: False\n",
      "\tScalers: MinMaxScaler()\n",
      "..Projecting on data shaped (145, 5)\n",
      "\n",
      "..Projecting data using: \n",
      "\tPCA(n_components=2)\n",
      "\n",
      "\n",
      "..Scaling with: MinMaxScaler()\n",
      "\n",
      "Mapping on data shaped (145, 5) using lens shaped (145, 2)\n",
      "\n",
      "Creating 400 hypercubes.\n",
      "\n",
      "Created 619 edges and 122 nodes in 0:00:00.094224.\n"
     ]
    }
   ],
   "source": [
    "# Initialize\n",
    "mapper = km.KeplerMapper(verbose=1)\n",
    "\n",
    "# Fit to and transform the data\n",
    "projected_data = mapper.fit_transform(data, \n",
    "                                      #projection=manifold.Isomap(n_components=100, n_jobs=-1)\n",
    "                                      #projection=[1,0,0,0,0]\n",
    "                                      projection=PCA(n_components=2)\n",
    "                                      #projection=KernelDensity()\n",
    "                                     ) # X-Y axis\n",
    "\n",
    "# Create dictionary called 'graph' with nodes, edges and meta-information\n",
    "graph = mapper.map(projected_data, data,\n",
    "                  clusterer=DBSCAN(eps=200, min_samples=2),\n",
    "                  cover=km.Cover(n_cubes=20, perc_overlap=0.6))"
   ]
  },
  {
   "cell_type": "code",
   "execution_count": 15,
   "metadata": {},
   "outputs": [
    {
     "name": "stdout",
     "output_type": "stream",
     "text": [
      "Wrote visualization to: chemdiab_keplermapper_output.html\n"
     ]
    },
    {
     "data": {
      "text/html": [
       "<style>\n",
       "        .container { width:100% !important; }\n",
       "        .output_scroll {height: 800px !important;}\n",
       "        </style>"
      ],
      "text/plain": [
       "<IPython.core.display.HTML object>"
      ]
     },
     "metadata": {},
     "output_type": "display_data"
    },
    {
     "name": "stderr",
     "output_type": "stream",
     "text": [
      "/home/brad/miniconda3/envs/tda/lib/python3.9/site-packages/IPython/core/display.py:717: UserWarning: Consider using IPython.display.IFrame instead\n",
      "  warnings.warn(\"Consider using IPython.display.IFrame instead\")\n"
     ]
    },
    {
     "data": {
      "text/html": [
       "<iframe src=chemdiab_keplermapper_output.html width=100%% height=800 frameBorder=\"0\"></iframe>"
      ],
      "text/plain": [
       "<IPython.core.display.HTML object>"
      ]
     },
     "metadata": {},
     "output_type": "display_data"
    }
   ],
   "source": [
    "# Visualize it\n",
    "mapper.visualize(graph, path_html=\"chemdiab_keplermapper_output.html\",\n",
    "                 title=\"make_circles(n_samples=5000, noise=0.03, factor=0.3)\")\n",
    "\n",
    "from kmapper import jupyter # Creates custom CSS full-size Jupyter screen\n",
    "\n",
    "# Inline display\n",
    "# jupyter.display(path_html=\"http://mlwave.github.io/tda/word2vec-gender-bias.html\")\n",
    "jupyter.display(path_html=\"chemdiab_keplermapper_output.html\")"
   ]
  },
  {
   "cell_type": "code",
   "execution_count": null,
   "metadata": {},
   "outputs": [],
   "source": []
  }
 ],
 "metadata": {
  "kernelspec": {
   "display_name": "Python [conda env:tda]",
   "language": "python",
   "name": "conda-env-tda-py"
  },
  "language_info": {
   "codemirror_mode": {
    "name": "ipython",
    "version": 3
   },
   "file_extension": ".py",
   "mimetype": "text/x-python",
   "name": "python",
   "nbconvert_exporter": "python",
   "pygments_lexer": "ipython3",
   "version": "3.9.1"
  }
 },
 "nbformat": 4,
 "nbformat_minor": 4
}
